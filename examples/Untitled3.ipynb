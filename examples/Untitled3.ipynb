{
 "cells": [
  {
   "cell_type": "code",
   "execution_count": 1,
   "metadata": {},
   "outputs": [],
   "source": [
    "#import os\n",
    "#print(os.environ['PIP_DEFAULT_TIMEOUT'])\n",
    "## export PIP_DEFAULT_TIMEOUT=100"
   ]
  },
  {
   "cell_type": "code",
   "execution_count": 3,
   "metadata": {},
   "outputs": [],
   "source": [
    "from math import sqrt, cos, sin, acos, pi, atan2\n",
    "from matplotlib import cm\n",
    "from matplotlib import patches\n",
    "from matplotlib.colors import LogNorm\n",
    "from matplotlib.path import Path\n",
    "from mpl_toolkits.mplot3d import Axes3D\n",
    "from numba import complex128,float64,int64,jit\n",
    "import matplotlib.pyplot as plt\n",
    "import numpy as np\n",
    "import quadpy\n",
    "\n",
    "#custom module\n",
    "from fieldplot import GetFlow3D\n",
    "from nanoscale_test import fieldplot2, rotateAroundX, rotateAroundY, rotateAroundZ, angle2D\n",
    "from scattnlay import fieldnlay\n",
    "from scattnlay import scattnlay\n",
    "\n",
    "import nanoscale_test\n",
    "import scattnlay\n",
    "\n",
    "%run kostin_kod.py"
   ]
  },
  {
   "cell_type": "code",
   "execution_count": 8,
   "metadata": {},
   "outputs": [],
   "source": [
    "from scipy.optimize import differential_evolution\n",
    "from pyfde import JADE"
   ]
  },
  {
   "cell_type": "code",
   "execution_count": null,
   "metadata": {},
   "outputs": [],
   "source": [
    "r1=120\n",
    "r2=120\n",
    "\n",
    "result = differential_evolution(lambda t: -evaluate(t), [(3, r1), (30, r2), (3, 10), (0, 0.4), (3, 10), (0, 0.4),\n",
    "                                           (0, r2*factor)],\n",
    "                               popsize=5, maxiter=1000)\n",
    "print(result)"
   ]
  },
  {
   "cell_type": "code",
   "execution_count": null,
   "metadata": {},
   "outputs": [],
   "source": [
    "r1=120\n",
    "r2=120\n",
    "\n",
    "limits = [(10, r1), (30, r2), (3, 10), (0, 0.4), (3, 10), (0, 0.4), (0.1, r2*factor)]\n",
    "\n",
    "solver = JADE(evaluate, n_dim=len(limits), n_pop=5*len(limits), limits=limits)\n",
    "\n",
    "best, fit = solver.run(n_it=300)"
   ]
  },
  {
   "cell_type": "code",
   "execution_count": null,
   "metadata": {},
   "outputs": [],
   "source": [
    "def run_evaluation(algo, r_limits, m_limits, mj_limits, layers, quad_n=31):\n",
    "    limits = [r_limits]*layers+[m_limits,mj_limits]*layers+[(0.1, r_limits[-1]*factor)]\n",
    "    \n",
    "    if algo == 'JADE':\n",
    "        solver = pyfde.JADE(lambda t: evaluate(t, layers=layers, quad_n=quad_n), \n",
    "                            n_dim=len(limits), n_pop=5*len(limits), limits=limits)\n",
    "        best, fit = solver.run(n_it=300)\n",
    "    elif algo == 'DE':\n",
    "        result = differential_evolution(lambda t: -evaluate(t, layers=layers, quad_n=quad_n),\n",
    "                               popsize=5*len(limits), maxiter=1000)\n",
    "        best, fit = result.x, -result.fun\n",
    "    else:\n",
    "        raise AssertionError(\"Unknown algo\")\n",
    "        \n",
    "    print(\"best {} for ind {}\".format(fit, best))\n",
    "    return best, fit"
   ]
  },
  {
   "cell_type": "code",
   "execution_count": 6,
   "metadata": {},
   "outputs": [],
   "source": [
    "def evaluate(ind, layers=2, quad_n=31):\n",
    "    assert len(ind)==layers*3+1\n",
    "    \n",
    "    r = ind[-1]\n",
    "    x = ind[:layers]\n",
    "    m_ = ind[layers:3*layers][::2]\n",
    "    m_j = ind[layers:3*layers][1::2]\n",
    "    m = map(lambda t: t[0]+t[1]*1j, zip(m_, m_j))\n",
    "    \n",
    "    m = [z for _,z in sorted(zip(x,m), key=lambda pair: pair[0])]\n",
    "    x = sorted(x)\n",
    "    \n",
    "    m = np.array(m)\n",
    "    x = np.array(x)\n",
    "    \n",
    "    coords = get_points('quad', r=r, quad_n=quad_n)\n",
    "    Iprj = integrand(coords, x, m)\n",
    "    Ptot = quadpy.sphere.integrate(lambda coords: integrand(coords, x, m),\n",
    "                            [0.0, 0.0, 0.0], r,\n",
    "                            quadpy.sphere.Lebedev(str(quad_n))) / (4. * np.pi * r**2)\n",
    "    return 3./4.*np.max(Iprj)/Ptot\n",
    "\n",
    "def get_mutate_func(all_mut_pb):\n",
    "    def mutate(ind):\n",
    "        new_ind = createIndividual()\n",
    "\n",
    "        if random.random() < all_mut_pb:\n",
    "            k = len(ind)\n",
    "        else:\n",
    "            k = 1\n",
    "\n",
    "        for i in random.sample(range(len(ind)), k):\n",
    "            ind[i] = new_ind[i]\n",
    "\n",
    "        return ind\n",
    "    return mutate"
   ]
  },
  {
   "cell_type": "code",
   "execution_count": null,
   "metadata": {},
   "outputs": [],
   "source": [
    "def "
   ]
  }
 ],
 "metadata": {
  "kernelspec": {
   "display_name": "Python 2",
   "language": "python",
   "name": "python2"
  },
  "language_info": {
   "codemirror_mode": {
    "name": "ipython",
    "version": 2
   },
   "file_extension": ".py",
   "mimetype": "text/x-python",
   "name": "python",
   "nbconvert_exporter": "python",
   "pygments_lexer": "ipython2",
   "version": "2.7.15rc1"
  }
 },
 "nbformat": 4,
 "nbformat_minor": 2
}
